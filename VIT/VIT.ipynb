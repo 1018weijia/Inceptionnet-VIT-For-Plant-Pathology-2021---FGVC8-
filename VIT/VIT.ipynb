{
 "cells": [
  {
   "cell_type": "code",
   "execution_count": 1,
   "id": "c327385a-c3c7-4248-bcbb-d6866aeedd5f",
   "metadata": {},
   "outputs": [
    {
     "name": "stderr",
     "output_type": "stream",
     "text": [
      "2023-12-09 11:44:59.039827: I tensorflow/core/util/util.cc:169] oneDNN custom operations are on. You may see slightly different numerical results due to floating-point round-off errors from different computation orders. To turn them off, set the environment variable `TF_ENABLE_ONEDNN_OPTS=0`.\n"
     ]
    }
   ],
   "source": [
    "import tensorflow as tf\n",
    "from tensorflow import keras\n",
    "from tensorflow.keras import layers\n",
    "from tensorflow.keras.models import Sequential\n",
    "from tensorflow.keras.optimizers import Adam\n",
    "from tensorflow.keras.losses import SparseCategoricalCrossentropy\n",
    "from tensorflow.keras.metrics import SparseCategoricalAccuracy\n",
    "from tensorflow.keras.preprocessing.image import ImageDataGenerator\n",
    "from keras_vit.vit import ViT_B32\n",
    "import numpy as np\n",
    "import pandas as pd\n",
    "import os\n",
    "import cv2\n",
    "import scipy\n",
    "from scipy import ndimage\n",
    "import matplotlib.pyplot as plt\n",
    "import tensorflow as tf\n",
    "from keras.optimizers import SGD\n",
    "from tensorflow.keras.layers import Input, Dense, GlobalAveragePooling1D, MultiHeadAttention, Reshape\n",
    "from tensorflow.keras.models import Model\n",
    "import os\n",
    "from tensorflow.keras.callbacks import TensorBoard"
   ]
  },
  {
   "cell_type": "code",
   "execution_count": 2,
   "id": "7b069428-44e9-4002-be45-c5df5f89887e",
   "metadata": {},
   "outputs": [],
   "source": [
    "# 读取位于指定路径的 CSV 文件并将其存储到 DataFrame 中\n",
    "df_train = pd.read_csv(\"plant_dataset_org/train/train_label.csv\")\n",
    "\n",
    "# 对 DataFrame 的 \"labels\" 列应用 lambda 函数\n",
    "# lambda 函数根据空格拆分 \"labels\" 列的值，并创建一个列表\n",
    "df_train[\"labels\"]=df_train[\"labels\"].apply(lambda x:x.split(\" \")) \n",
    "\n",
    "# 读取位于指定路径的 CSV 文件并将其存储到 DataFrame 中\n",
    "df_val = pd.read_csv(\"plant_dataset_org/val/val_label.csv\")\n",
    "# 对 DataFrame 的 \"labels\" 列应用 lambda 函数\n",
    "# lambda 函数根据空格拆分 \"labels\" 列的值，并创建一个列表\n",
    "df_val[\"labels\"]=df_val[\"labels\"].apply(lambda x:x.split(\" \")) \n",
    "\n",
    "\n",
    "# 指定包含训练图像和验证图像的目录路径\n",
    "train_path='plant_dataset_org/train/images'\n",
    "val_path = 'plant_dataset_org/val/images'\n"
   ]
  },
  {
   "cell_type": "code",
   "execution_count": 3,
   "id": "574beb05-30a4-4e8f-8616-2decc0b2b948",
   "metadata": {},
   "outputs": [
    {
     "name": "stdout",
     "output_type": "stream",
     "text": [
      "Found 3000 validated image filenames belonging to 6 classes.\n",
      "Found 600 validated image filenames belonging to 6 classes.\n",
      "{'complex': 0, 'frog_eye_leaf_spot': 1, 'healthy': 2, 'powdery_mildew': 3, 'rust': 4, 'scab': 5}\n",
      "{'complex': 0, 'frog_eye_leaf_spot': 1, 'healthy': 2, 'powdery_mildew': 3, 'rust': 4, 'scab': 5}\n"
     ]
    }
   ],
   "source": [
    "# 设置图像大小\n",
    "img_size=(224,224)\n",
    "\n",
    "# 创建图像数据生成器，用于数据增强\n",
    "datagen = ImageDataGenerator(\n",
    "    rescale=1./255,  # 对图像进行归一化，将像素缩放到[0,1]区间\n",
    "    zoom_range=0.2,  # 随机缩放图像的范围\n",
    "    horizontal_flip=True # 随机水平翻转图像\n",
    ")\n",
    "\n",
    "# 通过图像数据生成器创建训练数据生成器\n",
    "train_generator=datagen.flow_from_dataframe(\n",
    "dataframe=df_train, # 从 DataFrame_train 作为训练数据\n",
    "directory=train_path, # 图像文件所在的目录路径\n",
    "x_col=\"images\", # DataFrame 中包含图像文件名的列\n",
    "y_col=\"labels\", # DataFrame 中包含标签的列\n",
    "batch_size=4,  # 批处理大小\n",
    "seed=42,  # 随机种子，确保可重复性\n",
    "shuffle=True, # 每个 epoch 后打乱数据\n",
    "class_mode=\"categorical\",  # 返回 one-hot 编码的标签，适用于多分类问题\n",
    "target_size=img_size)  # 图像目标大小\n",
    "\n",
    "# 通过图像数据生成器创建验证数据生成器\n",
    "val_generator=datagen.flow_from_dataframe(\n",
    "dataframe=df_val,  # 从 DataFrame_val作为验证数据\n",
    "directory=val_path,\n",
    "x_col=\"images\",\n",
    "y_col=\"labels\",\n",
    "batch_size=4,\n",
    "seed=42,\n",
    "shuffle=True,\n",
    "class_mode=\"categorical\",\n",
    "target_size=img_size)\n",
    "\n",
    "print(train_generator.class_indices)\n",
    "print(val_generator.class_indices)\n"
   ]
  },
  {
   "cell_type": "code",
   "execution_count": 10,
   "id": "abe5ec44-487f-4433-80bd-78a654adb4a3",
   "metadata": {},
   "outputs": [],
   "source": [
    "# 设置参数\n",
    "IMAGE_SIZE = (224, 224)\n",
    "NUM_CLASSES = 6\n",
    "BATCH_SIZE = 32\n",
    "LEARNING_RATE = 1e-4\n",
    "EPOCHS = 150\n",
    "# 计算学习率衰减的速率，即每个epoch衰减的学习率\n",
    "decay_rate=LEARNING_RATE/EPOCHS\n",
    "# 设置动量参数\n",
    "momentum=0.8\n",
    "# 使用随机梯度下降SGD优化器，设置学习率、动量和学习率衰减\n",
    "sgd=SGD(learning_rate=LEARNING_RATE,momentum=momentum,decay=decay_rate)"
   ]
  },
  {
   "cell_type": "code",
   "execution_count": 11,
   "id": "c5448c32-3944-47d7-8b71-ecf79d0f507c",
   "metadata": {},
   "outputs": [],
   "source": [
    "# 构建 ViT 模型\n",
    "model = ViT_B32(\n",
    "    image_size=IMAGE_SIZE,\n",
    "    num_classes=NUM_CLASSES,\n",
    "    activation='sigmoid'  # 激活函数可以根据具体任务进行选择\n",
    ")\n"
   ]
  },
  {
   "cell_type": "code",
   "execution_count": 12,
   "id": "32d682a0-16ce-4f85-abac-14a253323b78",
   "metadata": {},
   "outputs": [
    {
     "name": "stdout",
     "output_type": "stream",
     "text": [
      "Model: \"ViT-B-32-224\"\n",
      "_________________________________________________________________\n",
      " Layer (type)                Output Shape              Param #   \n",
      "=================================================================\n",
      " patch_embedding (PatchEmbed  (None, 49, 768)          2360064   \n",
      " ding)                                                           \n",
      "                                                                 \n",
      " add_cls_token (AddCLSToken)  (None, 50, 768)          768       \n",
      "                                                                 \n",
      " position_embedding (AddPosi  (None, 50, 768)          38400     \n",
      " tionEmbedding)                                                  \n",
      "                                                                 \n",
      " transformer_block_0 (Transf  (None, 50, 768)          7087872   \n",
      " ormerEncoder)                                                   \n",
      "                                                                 \n",
      " transformer_block_1 (Transf  (None, 50, 768)          7087872   \n",
      " ormerEncoder)                                                   \n",
      "                                                                 \n",
      " transformer_block_2 (Transf  (None, 50, 768)          7087872   \n",
      " ormerEncoder)                                                   \n",
      "                                                                 \n",
      " transformer_block_3 (Transf  (None, 50, 768)          7087872   \n",
      " ormerEncoder)                                                   \n",
      "                                                                 \n",
      " transformer_block_4 (Transf  (None, 50, 768)          7087872   \n",
      " ormerEncoder)                                                   \n",
      "                                                                 \n",
      " transformer_block_5 (Transf  (None, 50, 768)          7087872   \n",
      " ormerEncoder)                                                   \n",
      "                                                                 \n",
      " transformer_block_6 (Transf  (None, 50, 768)          7087872   \n",
      " ormerEncoder)                                                   \n",
      "                                                                 \n",
      " transformer_block_7 (Transf  (None, 50, 768)          7087872   \n",
      " ormerEncoder)                                                   \n",
      "                                                                 \n",
      " transformer_block_8 (Transf  (None, 50, 768)          7087872   \n",
      " ormerEncoder)                                                   \n",
      "                                                                 \n",
      " transformer_block_9 (Transf  (None, 50, 768)          7087872   \n",
      " ormerEncoder)                                                   \n",
      "                                                                 \n",
      " transformer_block_10 (Trans  (None, 50, 768)          7087872   \n",
      " formerEncoder)                                                  \n",
      "                                                                 \n",
      " transformer_block_11 (Trans  (None, 50, 768)          7087872   \n",
      " formerEncoder)                                                  \n",
      "                                                                 \n",
      " layer_norm (LayerNormalizat  (None, 50, 768)          1536      \n",
      " ion)                                                            \n",
      "                                                                 \n",
      " extract_token (Lambda)      (None, 768)               0         \n",
      "                                                                 \n",
      " mlp_head (Dense)            (None, 6)                 4614      \n",
      "                                                                 \n",
      "=================================================================\n",
      "Total params: 87,459,846\n",
      "Trainable params: 87,459,846\n",
      "Non-trainable params: 0\n",
      "_________________________________________________________________\n"
     ]
    }
   ],
   "source": [
    "model.summary()"
   ]
  },
  {
   "cell_type": "code",
   "execution_count": 13,
   "id": "bf0eb1ec-e12f-407f-aa5c-58b0ca46c94a",
   "metadata": {},
   "outputs": [],
   "source": [
    "# 编译模型\n",
    "model.compile(\n",
    "    optimizer='sgd',loss='binary_crossentropy',metrics=[tf.keras.metrics.Precision()])"
   ]
  },
  {
   "cell_type": "code",
   "execution_count": 14,
   "id": "830b73fd-3ed8-4c79-b252-696ae8ddda82",
   "metadata": {},
   "outputs": [],
   "source": [
    "# Early stopping callback\n",
    "# 创建EarlyStopping回调函数，用于在训练过程中根据验证集损失来提前停止训练\n",
    "callback = keras.callbacks.EarlyStopping(monitor='val_loss', patience=15)"
   ]
  },
  {
   "cell_type": "code",
   "execution_count": 15,
   "id": "68b5d554-6804-4e63-9c8e-f2ecbf923ee2",
   "metadata": {},
   "outputs": [
    {
     "name": "stdout",
     "output_type": "stream",
     "text": [
      "Epoch 1/150\n",
      "93/93 [==============================] - 43s 298ms/step - loss: 0.4964 - precision_1: 0.2968 - val_loss: 0.4393 - val_precision_1: 0.7273\n",
      "Epoch 2/150\n",
      "93/93 [==============================] - 26s 277ms/step - loss: 0.4601 - precision_1: 0.3525 - val_loss: 0.4575 - val_precision_1: 0.3171\n",
      "Epoch 3/150\n",
      "93/93 [==============================] - 26s 279ms/step - loss: 0.4377 - precision_1: 0.3482 - val_loss: 0.4365 - val_precision_1: 0.4762\n",
      "Epoch 4/150\n",
      "93/93 [==============================] - 25s 272ms/step - loss: 0.4521 - precision_1: 0.4545 - val_loss: 0.4513 - val_precision_1: 0.4318\n",
      "Epoch 5/150\n",
      "93/93 [==============================] - 26s 274ms/step - loss: 0.4410 - precision_1: 0.4205 - val_loss: 0.3804 - val_precision_1: 0.6000\n",
      "Epoch 6/150\n",
      "93/93 [==============================] - 25s 271ms/step - loss: 0.4308 - precision_1: 0.4234 - val_loss: 0.4644 - val_precision_1: 0.4091\n",
      "Epoch 7/150\n",
      "93/93 [==============================] - 25s 274ms/step - loss: 0.4535 - precision_1: 0.3252 - val_loss: 0.4437 - val_precision_1: 0.3448\n",
      "Epoch 8/150\n",
      "93/93 [==============================] - 25s 268ms/step - loss: 0.4350 - precision_1: 0.4296 - val_loss: 0.4151 - val_precision_1: 0.5238\n",
      "Epoch 9/150\n",
      "93/93 [==============================] - 26s 274ms/step - loss: 0.4100 - precision_1: 0.4870 - val_loss: 0.4275 - val_precision_1: 0.5357\n",
      "Epoch 10/150\n",
      "93/93 [==============================] - 25s 271ms/step - loss: 0.4115 - precision_1: 0.5154 - val_loss: 0.3700 - val_precision_1: 0.6053\n",
      "Epoch 11/150\n",
      "93/93 [==============================] - 26s 278ms/step - loss: 0.3740 - precision_1: 0.5369 - val_loss: 0.4044 - val_precision_1: 0.5556\n",
      "Epoch 12/150\n",
      "93/93 [==============================] - 25s 270ms/step - loss: 0.3933 - precision_1: 0.5570 - val_loss: 0.3724 - val_precision_1: 0.6111\n",
      "Epoch 13/150\n",
      "93/93 [==============================] - 25s 268ms/step - loss: 0.3722 - precision_1: 0.5941 - val_loss: 0.3881 - val_precision_1: 0.5600\n",
      "Epoch 14/150\n",
      "93/93 [==============================] - 25s 272ms/step - loss: 0.3758 - precision_1: 0.6083 - val_loss: 0.3614 - val_precision_1: 0.5625\n",
      "Epoch 15/150\n",
      "93/93 [==============================] - 26s 276ms/step - loss: 0.3625 - precision_1: 0.5385 - val_loss: 0.3343 - val_precision_1: 0.6905\n",
      "Epoch 16/150\n",
      "93/93 [==============================] - 26s 278ms/step - loss: 0.3499 - precision_1: 0.6372 - val_loss: 0.3477 - val_precision_1: 0.5686\n",
      "Epoch 17/150\n",
      "93/93 [==============================] - 26s 282ms/step - loss: 0.3388 - precision_1: 0.5966 - val_loss: 0.3356 - val_precision_1: 0.5818\n",
      "Epoch 18/150\n",
      "93/93 [==============================] - 25s 270ms/step - loss: 0.3339 - precision_1: 0.6276 - val_loss: 0.3856 - val_precision_1: 0.4769\n",
      "Epoch 19/150\n",
      "93/93 [==============================] - 26s 276ms/step - loss: 0.3500 - precision_1: 0.6504 - val_loss: 0.3023 - val_precision_1: 0.7500\n",
      "Epoch 20/150\n",
      "93/93 [==============================] - 25s 273ms/step - loss: 0.3106 - precision_1: 0.6561 - val_loss: 0.3279 - val_precision_1: 0.6735\n",
      "Epoch 21/150\n",
      "93/93 [==============================] - 25s 269ms/step - loss: 0.3149 - precision_1: 0.6818 - val_loss: 0.3008 - val_precision_1: 0.6735\n",
      "Epoch 22/150\n",
      "93/93 [==============================] - 25s 268ms/step - loss: 0.3113 - precision_1: 0.6544 - val_loss: 0.3153 - val_precision_1: 0.5972\n",
      "Epoch 23/150\n",
      "93/93 [==============================] - 26s 276ms/step - loss: 0.3084 - precision_1: 0.6926 - val_loss: 0.2784 - val_precision_1: 0.6667\n",
      "Epoch 24/150\n",
      "93/93 [==============================] - 25s 265ms/step - loss: 0.3152 - precision_1: 0.6727 - val_loss: 0.3164 - val_precision_1: 0.6786\n",
      "Epoch 25/150\n",
      "93/93 [==============================] - 25s 271ms/step - loss: 0.3100 - precision_1: 0.6579 - val_loss: 0.2959 - val_precision_1: 0.6800\n",
      "Epoch 26/150\n",
      "93/93 [==============================] - 26s 280ms/step - loss: 0.2906 - precision_1: 0.7127 - val_loss: 0.2904 - val_precision_1: 0.7377\n",
      "Epoch 27/150\n",
      "93/93 [==============================] - 26s 278ms/step - loss: 0.3035 - precision_1: 0.6957 - val_loss: 0.3160 - val_precision_1: 0.7083\n",
      "Epoch 28/150\n",
      "93/93 [==============================] - 26s 282ms/step - loss: 0.2878 - precision_1: 0.6923 - val_loss: 0.3621 - val_precision_1: 0.6875\n",
      "Epoch 29/150\n",
      "93/93 [==============================] - 25s 269ms/step - loss: 0.3098 - precision_1: 0.7022 - val_loss: 0.3507 - val_precision_1: 0.5538\n",
      "Epoch 30/150\n",
      "93/93 [==============================] - 25s 270ms/step - loss: 0.2592 - precision_1: 0.7383 - val_loss: 0.2100 - val_precision_1: 0.8197\n",
      "Epoch 31/150\n",
      "93/93 [==============================] - 26s 275ms/step - loss: 0.2745 - precision_1: 0.7577 - val_loss: 0.2272 - val_precision_1: 0.7937\n",
      "Epoch 32/150\n",
      "93/93 [==============================] - 26s 282ms/step - loss: 0.3032 - precision_1: 0.7148 - val_loss: 0.2748 - val_precision_1: 0.5862\n",
      "Epoch 33/150\n",
      "93/93 [==============================] - 26s 278ms/step - loss: 0.2788 - precision_1: 0.6981 - val_loss: 0.2698 - val_precision_1: 0.6562\n",
      "Epoch 34/150\n",
      "93/93 [==============================] - 26s 275ms/step - loss: 0.2772 - precision_1: 0.7111 - val_loss: 0.2929 - val_precision_1: 0.6735\n",
      "Epoch 35/150\n",
      "93/93 [==============================] - 26s 277ms/step - loss: 0.2830 - precision_1: 0.7197 - val_loss: 0.2438 - val_precision_1: 0.7465\n",
      "Epoch 36/150\n",
      "93/93 [==============================] - 26s 278ms/step - loss: 0.2746 - precision_1: 0.7224 - val_loss: 0.2628 - val_precision_1: 0.7231\n",
      "Epoch 37/150\n",
      "93/93 [==============================] - 25s 268ms/step - loss: 0.2657 - precision_1: 0.7284 - val_loss: 0.2712 - val_precision_1: 0.6935\n",
      "Epoch 38/150\n",
      "93/93 [==============================] - 25s 274ms/step - loss: 0.2526 - precision_1: 0.7726 - val_loss: 0.2117 - val_precision_1: 0.8621\n",
      "Epoch 39/150\n",
      "93/93 [==============================] - 26s 274ms/step - loss: 0.2420 - precision_1: 0.7931 - val_loss: 0.2393 - val_precision_1: 0.8060\n",
      "Epoch 40/150\n",
      "93/93 [==============================] - 25s 271ms/step - loss: 0.2361 - precision_1: 0.7625 - val_loss: 0.2434 - val_precision_1: 0.6528\n",
      "Epoch 41/150\n",
      "93/93 [==============================] - 25s 271ms/step - loss: 0.2423 - precision_1: 0.7702 - val_loss: 0.2885 - val_precision_1: 0.6933\n",
      "Epoch 42/150\n",
      "93/93 [==============================] - 26s 275ms/step - loss: 0.2479 - precision_1: 0.7477 - val_loss: 0.2456 - val_precision_1: 0.7333\n",
      "Epoch 43/150\n",
      "93/93 [==============================] - 26s 276ms/step - loss: 0.2709 - precision_1: 0.7389 - val_loss: 0.2464 - val_precision_1: 0.7576\n",
      "Epoch 44/150\n",
      "93/93 [==============================] - 25s 271ms/step - loss: 0.2511 - precision_1: 0.7659 - val_loss: 0.2174 - val_precision_1: 0.8621\n",
      "Epoch 45/150\n",
      "93/93 [==============================] - 25s 267ms/step - loss: 0.2510 - precision_1: 0.7570 - val_loss: 0.2299 - val_precision_1: 0.8060\n"
     ]
    }
   ],
   "source": [
    "# 训练模型\n",
    "model_history = model.fit(\n",
    "    x=train_generator,\n",
    "    validation_data=val_generator,\n",
    "    steps_per_epoch=train_generator.samples // BATCH_SIZE,\n",
    "    validation_steps=val_generator.samples // BATCH_SIZE,\n",
    "    epochs=EPOCHS,\n",
    "    callbacks=[callback,TensorBoard(log_dir=\"MyBoard_VIT\",histogram_freq=0)]\n",
    ")\n",
    "\n",
    "# 关机\n",
    "#os.system(\"shutdown\")"
   ]
  },
  {
   "cell_type": "code",
   "execution_count": 16,
   "id": "decbb14a-507b-421b-8538-6cb1336a94b6",
   "metadata": {},
   "outputs": [
    {
     "name": "stderr",
     "output_type": "stream",
     "text": [
      "WARNING:absl:Found untraced functions such as conv2d_layer_call_fn, conv2d_layer_call_and_return_conditional_losses, _jit_compiled_convolution_op, reshape_layer_call_fn, reshape_layer_call_and_return_conditional_losses while saving (showing 5 of 293). These functions will not be directly callable after loading.\n"
     ]
    },
    {
     "name": "stdout",
     "output_type": "stream",
     "text": [
      "INFO:tensorflow:Assets written to: Final_VIT/assets\n"
     ]
    },
    {
     "name": "stderr",
     "output_type": "stream",
     "text": [
      "INFO:tensorflow:Assets written to: Final_VIT/assets\n",
      "WARNING:absl:<keras_vit.layers.MultiHeadAttention object at 0x7f7f9c7ab6a0> has the same name 'MultiHeadAttention' as a built-in Keras object. Consider renaming <class 'keras_vit.layers.MultiHeadAttention'> to avoid naming conflicts when loading with `tf.keras.models.load_model`. If renaming is not possible, pass the object in the `custom_objects` parameter of the load function.\n",
      "WARNING:absl:<keras_vit.layers.MultiHeadAttention object at 0x7f7f9c7ab1f0> has the same name 'MultiHeadAttention' as a built-in Keras object. Consider renaming <class 'keras_vit.layers.MultiHeadAttention'> to avoid naming conflicts when loading with `tf.keras.models.load_model`. If renaming is not possible, pass the object in the `custom_objects` parameter of the load function.\n",
      "WARNING:absl:<keras_vit.layers.MultiHeadAttention object at 0x7f7f9c71ed60> has the same name 'MultiHeadAttention' as a built-in Keras object. Consider renaming <class 'keras_vit.layers.MultiHeadAttention'> to avoid naming conflicts when loading with `tf.keras.models.load_model`. If renaming is not possible, pass the object in the `custom_objects` parameter of the load function.\n",
      "WARNING:absl:<keras_vit.layers.MultiHeadAttention object at 0x7f7f9c693b80> has the same name 'MultiHeadAttention' as a built-in Keras object. Consider renaming <class 'keras_vit.layers.MultiHeadAttention'> to avoid naming conflicts when loading with `tf.keras.models.load_model`. If renaming is not possible, pass the object in the `custom_objects` parameter of the load function.\n",
      "WARNING:absl:<keras_vit.layers.MultiHeadAttention object at 0x7f7f9c60b970> has the same name 'MultiHeadAttention' as a built-in Keras object. Consider renaming <class 'keras_vit.layers.MultiHeadAttention'> to avoid naming conflicts when loading with `tf.keras.models.load_model`. If renaming is not possible, pass the object in the `custom_objects` parameter of the load function.\n",
      "WARNING:absl:<keras_vit.layers.MultiHeadAttention object at 0x7f7f9c5847c0> has the same name 'MultiHeadAttention' as a built-in Keras object. Consider renaming <class 'keras_vit.layers.MultiHeadAttention'> to avoid naming conflicts when loading with `tf.keras.models.load_model`. If renaming is not possible, pass the object in the `custom_objects` parameter of the load function.\n",
      "WARNING:absl:<keras_vit.layers.MultiHeadAttention object at 0x7f7f9c4fd610> has the same name 'MultiHeadAttention' as a built-in Keras object. Consider renaming <class 'keras_vit.layers.MultiHeadAttention'> to avoid naming conflicts when loading with `tf.keras.models.load_model`. If renaming is not possible, pass the object in the `custom_objects` parameter of the load function.\n",
      "WARNING:absl:<keras_vit.layers.MultiHeadAttention object at 0x7f7f9c7ab580> has the same name 'MultiHeadAttention' as a built-in Keras object. Consider renaming <class 'keras_vit.layers.MultiHeadAttention'> to avoid naming conflicts when loading with `tf.keras.models.load_model`. If renaming is not possible, pass the object in the `custom_objects` parameter of the load function.\n",
      "WARNING:absl:<keras_vit.layers.MultiHeadAttention object at 0x7f7f9c46ca00> has the same name 'MultiHeadAttention' as a built-in Keras object. Consider renaming <class 'keras_vit.layers.MultiHeadAttention'> to avoid naming conflicts when loading with `tf.keras.models.load_model`. If renaming is not possible, pass the object in the `custom_objects` parameter of the load function.\n",
      "WARNING:absl:<keras_vit.layers.MultiHeadAttention object at 0x7f7f9c3ac7f0> has the same name 'MultiHeadAttention' as a built-in Keras object. Consider renaming <class 'keras_vit.layers.MultiHeadAttention'> to avoid naming conflicts when loading with `tf.keras.models.load_model`. If renaming is not possible, pass the object in the `custom_objects` parameter of the load function.\n",
      "WARNING:absl:<keras_vit.layers.MultiHeadAttention object at 0x7f7f9c7ab3d0> has the same name 'MultiHeadAttention' as a built-in Keras object. Consider renaming <class 'keras_vit.layers.MultiHeadAttention'> to avoid naming conflicts when loading with `tf.keras.models.load_model`. If renaming is not possible, pass the object in the `custom_objects` parameter of the load function.\n",
      "WARNING:absl:<keras_vit.layers.MultiHeadAttention object at 0x7f7f9c2c5c70> has the same name 'MultiHeadAttention' as a built-in Keras object. Consider renaming <class 'keras_vit.layers.MultiHeadAttention'> to avoid naming conflicts when loading with `tf.keras.models.load_model`. If renaming is not possible, pass the object in the `custom_objects` parameter of the load function.\n"
     ]
    }
   ],
   "source": [
    "# 在模型训练后保存整个模型\n",
    "model.save(\"Final_VIT\", save_format='tf')"
   ]
  },
  {
   "cell_type": "code",
   "execution_count": 17,
   "id": "d8236e1c-5acb-44a1-9ce1-dce74d73c00a",
   "metadata": {},
   "outputs": [
    {
     "data": {
      "image/png": "[encoded data removed]",
      "text/plain": [
       "<Figure size 576x360 with 1 Axes>"
      ]
     },
     "metadata": {
      "needs_background": "light"
     },
     "output_type": "display_data"
    }
   ],
   "source": [
    "# plotting the varoius metrics\n",
    "# 将模型训练的历史记录转换为 DataFrame，并绘制各种指标的曲线图\n",
    "pd.DataFrame(model_history.history).plot(figsize=(8,5))\n",
    "\n",
    "# 设置绘图区域的网格\n",
    "plt.grid(True)\n",
    "\n",
    "# 设置y轴的取值范围在0到1之间，以便更好地观察精确度等指标\n",
    "plt.gca().set_ylim(0,1)\n",
    "\n",
    "# 显示绘图\n",
    "plt.show()"
   ]
  },
  {
   "cell_type": "code",
   "execution_count": 18,
   "id": "347f32da-d117-432c-80fa-d5a1d6a9e56e",
   "metadata": {},
   "outputs": [
    {
     "name": "stdout",
     "output_type": "stream",
     "text": [
      "Found 600 validated image filenames belonging to 6 classes.\n"
     ]
    }
   ],
   "source": [
    "# 加载整个模型\n",
    "loaded_model = keras.models.load_model(\"Final_VIT\")\n",
    "\n",
    "# 指定测试图像文件夹的路径\n",
    "test_path = 'plant_dataset_org/test/images'\n",
    "# 读取位于指定路径的 CSV 文件并将其存储到 DataFrame 中\n",
    "df_test = pd.read_csv(\"plant_dataset_org/test/test_label.csv\")\n",
    "# 对 DataFrame 的 \"labels\" 列应用 lambda 函数\n",
    "# lambda 函数根据空格拆分 \"labels\" 列的值，并创建一个列表\n",
    "df_test[\"labels\"]=df_test[\"labels\"].apply(lambda x:x.split(\" \")) \n",
    "# 通过图像数据生成器创建测试数据生成器\n",
    "\n",
    "test_generator = datagen.flow_from_dataframe(\n",
    "    dataframe=df_test,            # 包含图像文件名的 DataFrame\n",
    "    directory=test_path,              # 测试图像文件夹的路径\n",
    "    x_col=\"images\",                    # DataFrame 中包含图像文件名的列\n",
    "    y_col=\"labels\",                    # 在测试阶段不需要标签\n",
    "    batch_size=1,                     # 批处理大小为1，因为每个测试样本都是单独的批次\n",
    "    seed=42,                          # 随机种子，确保可重复性\n",
    "    shuffle=False,                     # 每次生成数据时是否打乱数据\n",
    "    class_mode=\"categorical\",         # 在测试阶段需要类别信息\n",
    "    target_size=img_size              # 图像目标大小\n",
    ")\n",
    "\n"
   ]
  },
  {
   "cell_type": "code",
   "execution_count": 19,
   "id": "91fe979d-c257-4fe6-9dce-5ba2ab7310fe",
   "metadata": {},
   "outputs": [
    {
     "name": "stdout",
     "output_type": "stream",
     "text": [
      "600/600 [==============================] - 40s 65ms/step - loss: 0.2565 - precision_1: 0.7528\n",
      "Test Accuracy: 75.28%\n"
     ]
    }
   ],
   "source": [
    "# 在测试集上评估模型\n",
    "evaluation = loaded_model.evaluate(test_generator, steps=test_generator.samples // 1)\n",
    "print(\"Test Accuracy: {:.2f}%\".format(evaluation[1] * 100))"
   ]
  },
  {
   "cell_type": "code",
   "execution_count": null,
   "id": "4a53b788-8629-4e4c-a90d-5c333bc3957f",
   "metadata": {},
   "outputs": [
    {
     "name": "stdout",
     "output_type": "stream",
     "text": [
      "410/600 [===================>..........] - ETA: 11s"
     ]
    }
   ],
   "source": [
    "from sklearn.metrics import confusion_matrix\n",
    "import seaborn as sns\n",
    "\n",
    "# 获取测试集的真实标签\n",
    "true_labels = np.concatenate([test_generator[i][1] for i in range(len(test_generator))])\n",
    "# print(true_labels)\n",
    "# 获取模型在测试集上的预测标签\n",
    "predicted_labels = loaded_model.predict(test_generator, steps=len(test_generator))\n",
    "# 将标签从 one-hot 编码转换为类别\n",
    "true_classes = np.argmax(true_labels, axis=1)\n",
    "predicted_classes = np.argmax(predicted_labels, axis=1)\n",
    "\n",
    "# 计算混淆矩阵\n",
    "cm = confusion_matrix(true_classes, predicted_classes)\n",
    "\n",
    "# 可视化混淆矩阵\n",
    "plt.figure(figsize=(6, 6))\n",
    "sns.heatmap(cm, annot=True, fmt='d', cmap='Blues', xticklabels=train_generator.class_indices.keys(), yticklabels=train_generator.class_indices.keys())\n",
    "plt.xlabel('Predicted')\n",
    "plt.ylabel('True')\n",
    "plt.savefig('confusion_matrix_VIT.png')\n",
    "plt.show()"
   ]
  },
  {
   "cell_type": "code",
   "execution_count": null,
   "id": "55d78874-7884-4c25-9fa4-0433fd5e60bc",
   "metadata": {},
   "outputs": [],
   "source": []
  }
 ],
 "metadata": {
  "kernelspec": {
   "display_name": "Python 3 (ipykernel)",
   "language": "python",
   "name": "python3"
  },
  "language_info": {
   "codemirror_mode": {
    "name": "ipython",
    "version": 3
   },
   "file_extension": ".py",
   "mimetype": "text/x-python",
   "name": "python",
   "nbconvert_exporter": "python",
   "pygments_lexer": "ipython3",
   "version": "3.8.10"
  }
 },
 "nbformat": 4,
 "nbformat_minor": 5
}

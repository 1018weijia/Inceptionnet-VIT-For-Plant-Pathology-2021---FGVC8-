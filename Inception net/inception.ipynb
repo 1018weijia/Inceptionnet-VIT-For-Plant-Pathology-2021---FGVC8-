{
 "cells": [
  {
   "cell_type": "code",
   "execution_count": 1,
   "metadata": {},
   "outputs": [
    {
     "name": "stderr",
     "output_type": "stream",
     "text": [
      "2023-12-09 09:13:34.090507: I tensorflow/core/util/util.cc:169] oneDNN custom operations are on. You may see slightly different numerical results due to floating-point round-off errors from different computation orders. To turn them off, set the environment variable `TF_ENABLE_ONEDNN_OPTS=0`.\n"
     ]
    }
   ],
   "source": [
    "import numpy as np\n",
    "import pandas as pd\n",
    "import os\n",
    "import cv2\n",
    "import scipy\n",
    "from scipy import ndimage\n",
    "import matplotlib.pyplot as plt\n",
    "import tensorflow as tf\n",
    "from tensorflow import keras\n",
    "from keras.optimizers import SGD\n",
    "from tensorflow.keras.preprocessing.image import ImageDataGenerator\n",
    "from keras.applications.inception_v3 import InceptionV3\n",
    "\n",
    "from tensorflow.keras.preprocessing import image\n",
    "from tensorflow.keras.models import Model\n",
    "from tensorflow.keras.applications.inception_v3 import InceptionV3, preprocess_input\n",
    "import tensorflow.keras.backend as K\n",
    "from tensorflow.keras.callbacks import TensorBoard\n"
   ]
  },
  {
   "cell_type": "code",
   "execution_count": 2,
   "metadata": {},
   "outputs": [],
   "source": [
    "# 读取位于指定路径的 CSV 文件并将其存储到 DataFrame 中\n",
    "df_train = pd.read_csv(\"plant_dataset_org/train/train_label.csv\")\n",
    "# 对 DataFrame 的 \"labels\" 列应用 lambda 函数\n",
    "# lambda 函数根据空格拆分 \"labels\" 列的值，并创建一个列表\n",
    "df_train[\"labels\"]=df_train[\"labels\"].apply(lambda x:x.split(\" \")) \n",
    "\n",
    "\n",
    "\n",
    "# 读取位于指定路径的 CSV 文件并将其存储到 DataFrame 中\n",
    "df_val = pd.read_csv(\"plant_dataset_org/val/val_label.csv\")\n",
    "# 对 DataFrame 的 \"labels\" 列应用 lambda 函数\n",
    "# lambda 函数根据空格拆分 \"labels\" 列的值，并创建一个列表\n",
    "df_val[\"labels\"]=df_val[\"labels\"].apply(lambda x:x.split(\" \")) \n",
    "\n",
    "\n",
    "# 指定包含训练图像和验证图像的目录路径\n",
    "train_path='plant_dataset_org/train/images'\n",
    "val_path = 'plant_dataset_org/val/images'"
   ]
  },
  {
   "cell_type": "code",
   "execution_count": 3,
   "metadata": {},
   "outputs": [
    {
     "name": "stdout",
     "output_type": "stream",
     "text": [
      "Found 3000 validated image filenames belonging to 6 classes.\n",
      "Found 600 validated image filenames belonging to 6 classes.\n",
      "{'complex': 0, 'frog_eye_leaf_spot': 1, 'healthy': 2, 'powdery_mildew': 3, 'rust': 4, 'scab': 5}\n",
      "{'complex': 0, 'frog_eye_leaf_spot': 1, 'healthy': 2, 'powdery_mildew': 3, 'rust': 4, 'scab': 5}\n"
     ]
    }
   ],
   "source": [
    "# 设置图像大小\n",
    "img_size=(128,128)\n",
    "\n",
    "# 创建图像数据生成器，用于数据增强\n",
    "datagen = ImageDataGenerator(\n",
    "    rescale=1./255,  # 对图像进行归一化，将像素缩放到[0,1]区间\n",
    "    zoom_range=0.2,  # 随机缩放图像的范围\n",
    "    horizontal_flip=True # 随机水平翻转图像\n",
    ")\n",
    "\n",
    "\n",
    "# 通过图像数据生成器创建训练数据生成器\n",
    "train_generator=datagen.flow_from_dataframe(\n",
    "dataframe=df_train, # 从 DataFrame_train 作为训练数据\n",
    "directory=train_path, # 图像文件所在的目录路径\n",
    "x_col=\"images\", # DataFrame 中包含图像文件名的列\n",
    "y_col=\"labels\", # DataFrame 中包含标签的列\n",
    "batch_size=64,  # 批处理大小\n",
    "seed=42,  # 随机种子，确保可重复性\n",
    "shuffle=True, # 每个 epoch 后打乱数据\n",
    "class_mode=\"categorical\",  # 返回 one-hot 编码的标签，适用于多分类问题\n",
    "target_size=img_size)  # 图像目标大小\n",
    "\n",
    "# 通过图像数据生成器创建验证数据生成器\n",
    "val_generator=datagen.flow_from_dataframe(\n",
    "dataframe=df_val,  # 从 DataFrame_val作为验证数据\n",
    "directory=val_path,\n",
    "x_col=\"images\",\n",
    "y_col=\"labels\",\n",
    "batch_size=64,\n",
    "seed=42,\n",
    "shuffle=True,\n",
    "class_mode=\"categorical\",\n",
    "target_size=img_size)\n",
    "\n",
    "print(train_generator.class_indices)\n",
    "print(val_generator.class_indices)"
   ]
  },
  {
   "cell_type": "code",
   "execution_count": 4,
   "metadata": {},
   "outputs": [
    {
     "name": "stderr",
     "output_type": "stream",
     "text": [
      "2023-12-09 09:14:35.732538: I tensorflow/core/platform/cpu_feature_guard.cc:193] This TensorFlow binary is optimized with oneAPI Deep Neural Network Library (oneDNN) to use the following CPU instructions in performance-critical operations:  AVX2 AVX512F AVX512_VNNI FMA\n",
      "To enable them in other operations, rebuild TensorFlow with the appropriate compiler flags.\n",
      "2023-12-09 09:14:36.325421: I tensorflow/core/common_runtime/gpu/gpu_device.cc:1532] Created device /job:localhost/replica:0/task:0/device:GPU:0 with 10099 MB memory:  -> device: 0, name: NVIDIA GeForce RTX 3080 Ti, pci bus id: 0000:5e:00.0, compute capability: 8.6\n"
     ]
    }
   ],
   "source": [
    "# 使用 InceptionV3 模型加载预训练权重，不包括顶层（全连接层），指定输入图像的形状为 (128, 128, 3)\n",
    "model_pretrained = InceptionV3(weights='imagenet', \n",
    "                      include_top=False, \n",
    "                      input_shape=(128,128,3))\n",
    "# 创建序贯模型\n",
    "model=keras.models.Sequential()\n",
    "\n",
    "# 添加预训练的 InceptionV3 模型作为第一层\n",
    "model.add(model_pretrained)\n",
    "\n",
    "# 将模型展平为一维数组\n",
    "model.add(keras.layers.Flatten())\n",
    "\n",
    "# 添加全连接层，包含 300 个神经元，激活函数为 ReLU\n",
    "model.add(keras.layers.Dense(300, activation=\"relu\"))\n",
    "\n",
    "# 添加 Dropout 层，防止过拟合，丢弃率为 20%\n",
    "model.add(keras.layers.Dropout(0.2))\n",
    "\n",
    "# 添加全连接层，包含 100 个神经元，激活函数为 ReLU\n",
    "model.add(keras.layers.Dense(100,activation='relu'))\n",
    "\n",
    "# 再次添加 Dropout 层，防止过拟合，丢弃率为 20%\n",
    "model.add(keras.layers.Dropout(0.2))\n",
    "\n",
    "# 添加输出层，包含 6 个神经元，使用 sigmoid 激活函数进行多标签分类\n",
    "model.add(keras.layers.Dense(6,activation=\"sigmoid\"))\n"
   ]
  },
  {
   "cell_type": "code",
   "execution_count": 5,
   "metadata": {},
   "outputs": [
    {
     "name": "stdout",
     "output_type": "stream",
     "text": [
      "Model: \"sequential\"\n",
      "_________________________________________________________________\n",
      " Layer (type)                Output Shape              Param #   \n",
      "=================================================================\n",
      " inception_v3 (Functional)   (None, 2, 2, 2048)        21802784  \n",
      "                                                                 \n",
      " flatten (Flatten)           (None, 8192)              0         \n",
      "                                                                 \n",
      " dense (Dense)               (None, 300)               2457900   \n",
      "                                                                 \n",
      " dropout (Dropout)           (None, 300)               0         \n",
      "                                                                 \n",
      " dense_1 (Dense)             (None, 100)               30100     \n",
      "                                                                 \n",
      " dropout_1 (Dropout)         (None, 100)               0         \n",
      "                                                                 \n",
      " dense_2 (Dense)             (None, 6)                 606       \n",
      "                                                                 \n",
      "=================================================================\n",
      "Total params: 24,291,390\n",
      "Trainable params: 24,256,958\n",
      "Non-trainable params: 34,432\n",
      "_________________________________________________________________\n"
     ]
    }
   ],
   "source": [
    "# 打印模型的摘要信息\n",
    "model.summary()"
   ]
  },
  {
   "cell_type": "code",
   "execution_count": 6,
   "metadata": {},
   "outputs": [],
   "source": [
    "# 设置总训练轮数\n",
    "epoch=100\n",
    "# 设置初始学习率\n",
    "learning_rate=0.01\n",
    "# 计算学习率衰减的速率，即每个epoch衰减的学习率\n",
    "decay_rate=learning_rate/epoch\n",
    "# 设置动量参数\n",
    "momentum=0.8\n",
    "# 使用随机梯度下降SGD优化器，设置学习率、动量和学习率衰减\n",
    "sgd=SGD(learning_rate=learning_rate,momentum=momentum,decay=decay_rate)"
   ]
  },
  {
   "cell_type": "code",
   "execution_count": 7,
   "metadata": {},
   "outputs": [],
   "source": [
    "# Early stopping callback\n",
    "# 创建EarlyStopping回调函数，用于在训练过程中根据验证集损失来提前停止训练\n",
    "callback = keras.callbacks.EarlyStopping(monitor='val_loss', patience=5)"
   ]
  },
  {
   "cell_type": "code",
   "execution_count": 8,
   "metadata": {},
   "outputs": [],
   "source": [
    "# 编译模型，设置损失函数，优化器和评估指标\n",
    "model.compile(loss='binary_crossentropy', # 使用二分类交叉熵作为损失函数，适用于多标签分类问题\n",
    "              optimizer='sgd', # 使用随机梯度下降（SGD）作为优化器\n",
    "              metrics=[tf.keras.metrics.Precision()]) # 监测模型性能的评估指标，这里使用精确度（Precision）"
   ]
  },
  {
   "cell_type": "code",
   "execution_count": 9,
   "metadata": {},
   "outputs": [
    {
     "name": "stdout",
     "output_type": "stream",
     "text": [
      "Epoch 1/100\n"
     ]
    },
    {
     "name": "stderr",
     "output_type": "stream",
     "text": [
      "2023-12-09 09:16:11.728854: I tensorflow/stream_executor/cuda/cuda_dnn.cc:384] Loaded cuDNN version 8101\n",
      "2023-12-09 09:16:13.823617: I tensorflow/stream_executor/cuda/cuda_blas.cc:1786] TensorFloat-32 will be used for the matrix multiplication. This will only be logged once.\n"
     ]
    },
    {
     "name": "stdout",
     "output_type": "stream",
     "text": [
      "47/47 [==============================] - 196s 4s/step - loss: 0.5587 - precision: 0.1977 - val_loss: 0.5140 - val_precision: 0.2857\n",
      "Epoch 2/100\n",
      "47/47 [==============================] - 172s 4s/step - loss: 0.4877 - precision: 0.3129 - val_loss: 0.4595 - val_precision: 0.3333\n",
      "Epoch 3/100\n",
      "47/47 [==============================] - 174s 4s/step - loss: 0.4669 - precision: 0.3701 - val_loss: 0.4402 - val_precision: 0.5556\n",
      "Epoch 4/100\n",
      "47/47 [==============================] - 176s 4s/step - loss: 0.4507 - precision: 0.4061 - val_loss: 0.4298 - val_precision: 0.8000\n",
      "Epoch 5/100\n",
      "47/47 [==============================] - 174s 4s/step - loss: 0.4372 - precision: 0.4678 - val_loss: 0.4202 - val_precision: 0.7273\n",
      "Epoch 6/100\n",
      "47/47 [==============================] - 174s 4s/step - loss: 0.4221 - precision: 0.5265 - val_loss: 0.4057 - val_precision: 0.6757\n",
      "Epoch 7/100\n",
      "47/47 [==============================] - 173s 4s/step - loss: 0.4123 - precision: 0.5539 - val_loss: 0.4080 - val_precision: 0.7328\n",
      "Epoch 8/100\n",
      "47/47 [==============================] - 174s 4s/step - loss: 0.3974 - precision: 0.6049 - val_loss: 0.3882 - val_precision: 0.6685\n",
      "Epoch 9/100\n",
      "47/47 [==============================] - 178s 4s/step - loss: 0.3805 - precision: 0.6205 - val_loss: 0.3942 - val_precision: 0.6559\n",
      "Epoch 10/100\n",
      "47/47 [==============================] - 178s 4s/step - loss: 0.3621 - precision: 0.6648 - val_loss: 0.3809 - val_precision: 0.6791\n",
      "Epoch 11/100\n",
      "47/47 [==============================] - 172s 4s/step - loss: 0.3530 - precision: 0.6643 - val_loss: 0.3575 - val_precision: 0.6678\n",
      "Epoch 12/100\n",
      "47/47 [==============================] - 171s 4s/step - loss: 0.3327 - precision: 0.7014 - val_loss: 0.3384 - val_precision: 0.7181\n",
      "Epoch 13/100\n",
      "47/47 [==============================] - 174s 4s/step - loss: 0.2888 - precision: 0.7389 - val_loss: 0.2905 - val_precision: 0.7456\n",
      "Epoch 16/100\n",
      "47/47 [==============================] - 174s 4s/step - loss: 0.2771 - precision: 0.7572 - val_loss: 0.2872 - val_precision: 0.7424\n",
      "Epoch 17/100\n",
      "47/47 [==============================] - 172s 4s/step - loss: 0.2662 - precision: 0.7721 - val_loss: 0.2710 - val_precision: 0.7711\n",
      "Epoch 18/100\n",
      "47/47 [==============================] - 168s 4s/step - loss: 0.2578 - precision: 0.7656 - val_loss: 0.2614 - val_precision: 0.7841\n",
      "Epoch 19/100\n",
      "47/47 [==============================] - 173s 4s/step - loss: 0.2448 - precision: 0.7884 - val_loss: 0.2684 - val_precision: 0.7510\n",
      "Epoch 20/100\n",
      "47/47 [==============================] - 174s 4s/step - loss: 0.2334 - precision: 0.7918 - val_loss: 0.2436 - val_precision: 0.7895\n",
      "Epoch 21/100\n",
      "47/47 [==============================] - 179s 4s/step - loss: 0.2229 - precision: 0.8060 - val_loss: 0.2457 - val_precision: 0.7801\n",
      "Epoch 22/100\n",
      "47/47 [==============================] - 184s 4s/step - loss: 0.2107 - precision: 0.8271 - val_loss: 0.2537 - val_precision: 0.7813\n",
      "Epoch 23/100\n",
      "47/47 [==============================] - 184s 4s/step - loss: 0.2025 - precision: 0.8265 - val_loss: 0.2373 - val_precision: 0.7978\n",
      "Epoch 24/100\n",
      "47/47 [==============================] - 180s 4s/step - loss: 0.1947 - precision: 0.8376 - val_loss: 0.2438 - val_precision: 0.7790\n",
      "Epoch 25/100\n",
      "47/47 [==============================] - 187s 4s/step - loss: 0.1938 - precision: 0.8411 - val_loss: 0.2307 - val_precision: 0.7935\n",
      "Epoch 26/100\n",
      "47/47 [==============================] - 170s 4s/step - loss: 0.1828 - precision: 0.8450 - val_loss: 0.2305 - val_precision: 0.8073\n",
      "Epoch 27/100\n",
      "47/47 [==============================] - 187s 4s/step - loss: 0.1643 - precision: 0.8618 - val_loss: 0.2267 - val_precision: 0.7912\n",
      "Epoch 30/100\n",
      "47/47 [==============================] - 181s 4s/step - loss: 0.1582 - precision: 0.8680 - val_loss: 0.2245 - val_precision: 0.8146\n",
      "Epoch 31/100\n",
      "47/47 [==============================] - 180s 4s/step - loss: 0.1509 - precision: 0.8730 - val_loss: 0.2180 - val_precision: 0.8121\n",
      "Epoch 32/100\n",
      "47/47 [==============================] - 186s 4s/step - loss: 0.1484 - precision: 0.8836 - val_loss: 0.2232 - val_precision: 0.7866\n"
     ]
    }
   ],
   "source": [
    "# 使用模型进行训练，将训练数据生成器传递给模型\n",
    "# 设置训练轮数（epochs）、验证数据生成器、是否打乱数据、以及提前停止的回调函数\n",
    "model_history=model.fit(train_generator,epochs=epoch,validation_data=val_generator,shuffle=True, callbacks=[callback,TensorBoard(log_dir=\"Inc_TFboard\",histogram_freq=0)])\n",
    "# train_generator 训练数据生成器\n",
    "# epochs 训练轮数\n",
    "# validation_data 验证数据生成器\n",
    "# shuffle 在每个epoch开始前是否打乱数据\n",
    "# callbacks 提前停止的回调函数，用于根据验证集损失提前停止训练\n",
    "\n",
    "# 在模型训练后保存整个模型\n",
    "model.save(\"Inception_model.h5\")\n",
    "# # 关机\n",
    "# os.system(\"shutdown\")"
   ]
  },
  {
   "cell_type": "code",
   "execution_count": 10,
   "metadata": {},
   "outputs": [],
   "source": [
    "# 加载整个模型\n",
    "loaded_model = keras.models.load_model(\"Inception_model.h5\")"
   ]
  },
  {
   "cell_type": "code",
   "execution_count": 11,
   "metadata": {},
   "outputs": [
    {
     "data": {
      "image/png": "[encoded data removed]",
      "text/plain": [
       "<Figure size 576x360 with 1 Axes>"
      ]
     },
     "metadata": {
      "needs_background": "light"
     },
     "output_type": "display_data"
    }
   ],
   "source": [
    "# 将模型训练的历史记录转换为 DataFrame，并绘制各种指标的曲线图\n",
    "pd.DataFrame(model_history.history).plot(figsize=(8,5))\n",
    "\n",
    "# 设置绘图区域的网格\n",
    "plt.grid(True)\n",
    "\n",
    "# 设置y轴的取值范围在0到1之间，以便更好地观察精确度等指标\n",
    "plt.gca().set_ylim(0,1)\n",
    "\n",
    "# 显示绘图\n",
    "plt.show()"
   ]
  },
  {
   "cell_type": "code",
   "execution_count": 12,
   "metadata": {},
   "outputs": [
    {
     "name": "stdout",
     "output_type": "stream",
     "text": [
      "Found 600 validated image filenames belonging to 6 classes.\n"
     ]
    }
   ],
   "source": [
    "# 指定测试图像文件夹的路径\n",
    "test_path = 'plant_dataset_org/test/images'\n",
    "# 读取位于指定路径的 CSV 文件并将其存储到 DataFrame 中\n",
    "df_test = pd.read_csv(\"plant_dataset_org/test/test_label.csv\")\n",
    "# 对 DataFrame 的 \"labels\" 列应用 lambda 函数\n",
    "# lambda 函数根据空格拆分 \"labels\" 列的值，并创建一个列表\n",
    "df_test[\"labels\"]=df_test[\"labels\"].apply(lambda x:x.split(\" \")) \n",
    "# 通过图像数据生成器创建测试数据生成器\n",
    "\n",
    "test_generator = datagen.flow_from_dataframe(\n",
    "    dataframe=df_test,            # 包含图像文件名的 DataFrame\n",
    "    directory=test_path,              # 测试图像文件夹的路径\n",
    "    x_col=\"images\",                    # DataFrame 中包含图像文件名的列\n",
    "    y_col=\"labels\",                    # 在测试阶段不需要标签\n",
    "    batch_size=1,                     # 批处理大小为1，因为每个测试样本都是单独的批次\n",
    "    seed=42,                          # 随机种子，确保可重复性\n",
    "    shuffle=False,                     # 每次生成数据时是否打乱数据\n",
    "    class_mode=\"categorical\",         # 在测试阶段需要类别信息\n",
    "    target_size=img_size              # 图像目标大小\n",
    ")\n",
    "\n"
   ]
  },
  {
   "cell_type": "code",
   "execution_count": 13,
   "metadata": {},
   "outputs": [
    {
     "name": "stdout",
     "output_type": "stream",
     "text": [
      "600/600 [==============================] - 36s 58ms/step - loss: 0.2505 - precision: 0.7504\n",
      "Test Accuracy: 75.04%\n"
     ]
    }
   ],
   "source": [
    "# 在测试集上评估模型\n",
    "evaluation = loaded_model.evaluate(test_generator, steps=test_generator.samples // 1)\n",
    "print(\"Test Accuracy: {:.2f}%\".format(evaluation[1] * 100))"
   ]
  },
  {
   "cell_type": "code",
   "execution_count": 14,
   "metadata": {},
   "outputs": [
    {
     "name": "stdout",
     "output_type": "stream",
     "text": [
      "311\n",
      "1/1 [==============================] - 0s 174ms/step\n"
     ]
    },
    {
     "data": {
      "image/png": "[encoded data removed]",
      "text/plain": [
       "<Figure size 432x288 with 1 Axes>"
      ]
     },
     "metadata": {
      "needs_background": "light"
     },
     "output_type": "display_data"
    }
   ],
   "source": [
    "print(len(model_pretrained.layers))\n",
    "layer_index = 10  # 选择InceptionV3中的某个卷积层\n",
    "\n",
    "# 提取指定卷积层的输出\n",
    "intermediate_layer_model = Model(inputs=model_pretrained.input,\n",
    "                                 outputs=model_pretrained.layers[layer_index].output)\n",
    "\n",
    "# 加载一张图片进行测试\n",
    "img_path = '803e3bd17a16e65c.jpg'\n",
    "img = image.load_img(img_path, target_size=(128, 128))\n",
    "img_array = image.img_to_array(img)\n",
    "img_array = np.expand_dims(img_array, axis=0)\n",
    "img_array = preprocess_input(img_array)\n",
    "\n",
    "# 获取卷积层的输出\n",
    "intermediate_output = intermediate_layer_model.predict(img_array)\n",
    "\n",
    "# 可视化特征图\n",
    "plt.imshow(intermediate_output[0, :, :, 0], cmap='viridis')  # 选择通道进行可视化\n",
    "plt.show()"
   ]
  },
  {
   "cell_type": "code",
   "execution_count": 15,
   "metadata": {},
   "outputs": [
    {
     "name": "stdout",
     "output_type": "stream",
     "text": [
      "600/600 [==============================] - 34s 55ms/step\n"
     ]
    },
    {
     "data": {
      "image/png": "[encoded data removed]",
      "text/plain": [
       "<Figure size 432x432 with 2 Axes>"
      ]
     },
     "metadata": {
      "needs_background": "light"
     },
     "output_type": "display_data"
    }
   ],
   "source": [
    "from sklearn.metrics import confusion_matrix\n",
    "import seaborn as sns\n",
    "\n",
    "# 获取测试集的真实标签\n",
    "true_labels = np.concatenate([test_generator[i][1] for i in range(len(test_generator))])\n",
    "# print(true_labels)\n",
    "# 获取模型在测试集上的预测标签\n",
    "predicted_labels = model.predict(test_generator, steps=len(test_generator))\n",
    "# 将标签从 one-hot 编码转换为类别\n",
    "true_classes = np.argmax(true_labels, axis=1)\n",
    "predicted_classes = np.argmax(predicted_labels, axis=1)\n",
    "\n",
    "# 计算混淆矩阵\n",
    "cm = confusion_matrix(true_classes, predicted_classes)\n",
    "\n",
    "# 可视化混淆矩阵\n",
    "plt.figure(figsize=(6, 6))\n",
    "sns.heatmap(cm, annot=True, fmt='d', cmap='Blues', xticklabels=train_generator.class_indices.keys(), yticklabels=train_generator.class_indices.keys())\n",
    "plt.xlabel('Predicted')\n",
    "plt.ylabel('True')\n",
    "# 保存混淆矩阵到文件\n",
    "plt.savefig('confusion_matrix.png')\n",
    "plt.show()"
   ]
  },
  {
   "cell_type": "code",
   "execution_count": null,
   "metadata": {},
   "outputs": [],
   "source": [
    "# # 关机\n",
    "# os.system(\"shutdown\")"
   ]
  }
 ],
 "metadata": {
  "kernelspec": {
   "display_name": "Python 3 (ipykernel)",
   "language": "python",
   "name": "python3"
  },
  "language_info": {
   "codemirror_mode": {
    "name": "ipython",
    "version": 3
   },
   "file_extension": ".py",
   "mimetype": "text/x-python",
   "name": "python",
   "nbconvert_exporter": "python",
   "pygments_lexer": "ipython3",
   "version": "3.8.10"
  }
 },
 "nbformat": 4,
 "nbformat_minor": 4
}
